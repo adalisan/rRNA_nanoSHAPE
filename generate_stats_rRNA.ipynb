{
 "cells": [
  {
   "cell_type": "code",
   "execution_count": 2,
   "metadata": {},
   "outputs": [],
   "source": [
    "import pandas as pd\n",
    "import numpy as np\n",
    "import os\n",
    "import glob\n",
    "import seaborn as sns\n",
    "import matplotlib\n",
    "import matplotlib.pyplot as plt\n",
    "from wand.image import Image as WImage\n",
    "from scipy.stats import ks_2samp, ttest_ind, shapiro"
   ]
  },
  {
   "cell_type": "code",
   "execution_count": 3,
   "metadata": {},
   "outputs": [],
   "source": [
    "def get_dwell_median(path):\n",
    "    \"\"\"\n",
    "    gets the median dwell time for individual reads in a dict from AWS emr output\n",
    "    \"\"\"\n",
    "    df = pd.read_csv(path)\n",
    "    df.columns = [\"read_name\", \"median_dwell\"]\n",
    "    return df.set_index(\"read_name\")[\"median_dwell\"].to_dict()\n",
    "\n",
    "def get_df(prefix,contig, positions,median_profile_path):\n",
    "    \"\"\"\n",
    "    put positions from the distributed file system\n",
    "    into one dataframe\n",
    "    \"\"\"\n",
    "    df = pd.DataFrame()\n",
    "    for pos in positions:\n",
    "        \n",
    "        path = prefix + 'contig=' + contig + '/position=' + str(pos -1)\n",
    "        csv = glob.glob(path + \"/*.csv\")\n",
    "        columns = ['read_name','kmer','model_mean','model_stdv','dwell','event_mean']\n",
    "        new_df = pd.read_csv(csv[0], header=None)\n",
    "        new_df.columns = columns\n",
    "        new_df['position'] = pos\n",
    "        df = df.append(new_df)\n",
    "        \n",
    "    median_dwells = get_dwell_median(median_profile_path)\n",
    "    df[\"med_dwell\"] = df[\"read_name\"].map(median_dwells)\n",
    "    df[\"normalized_dwell\"] = df[\"dwell\"]/df[\"med_dwell\"]\n",
    "    df.drop(columns=[\"med_dwell\",\"dwell\"],inplace=True)\n",
    "#     df['dwell'] = df['dwell'] * 1000 # get dwell in ms\n",
    "    return df\n",
    "\n",
    "\n",
    "def get_stat(native, ivt, contig, position, output_file):\n",
    "    \"\"\"\n",
    "    takes the native and ivt dataframes and outputs some stats (KS, ttest, )\n",
    "    \"\"\"\n",
    "    num_native = len(native)\n",
    "    num_ivt = len(ivt)\n",
    "    kmer = native.kmer.iloc[0]\n",
    "    kmer = kmer.replace('T','U')\n",
    "    signal_ks, signal_ksP = ks_2samp(np.ravel(native[\"event_mean\"]),np.ravel(ivt[\"event_mean\"]))\n",
    "    dwell_ks, dwell_ksP = ks_2samp(np.ravel(native[\"normalized_dwell\"]),np.ravel(ivt[\"normalized_dwell\"]))\n",
    "    dwell_tt, dwell_ttP = ttest_ind(np.ravel(native[\"normalized_dwell\"]),np.ravel(ivt[\"normalized_dwell\"]),equal_var=False)\n",
    "    signal_tt, signal_ttP = ttest_ind(np.ravel(native[\"event_mean\"]),np.ravel(ivt[\"event_mean\"]),equal_var=False)\n",
    "    native_shap,p = shapiro(np.ravel(native[\"event_mean\"]))\n",
    "    ivt_shap,p = shapiro(np.ravel(ivt[\"event_mean\"]))\n",
    "\n",
    "    out = [contig, position , kmer, num_ivt, num_native, signal_ks, signal_ksP, signal_tt,signal_ttP,ivt_shap, native_shap,\n",
    "           ivt[\"event_mean\"].mean(), native[\"event_mean\"].mean(), ivt[\"event_mean\"].median(), native[\"event_mean\"].median(),\n",
    "           ivt[\"event_mean\"].std(), native[\"event_mean\"].std(), dwell_ks, dwell_ksP, dwell_tt, dwell_ttP, ivt[\"normalized_dwell\"].mean(), \n",
    "           native[\"normalized_dwell\"].mean(),ivt[\"normalized_dwell\"].median(), native[\"normalized_dwell\"].median(), ivt[\"normalized_dwell\"].std(), native[\"normalized_dwell\"].std()]\n",
    "\n",
    "    out = \"\\t\".join([str(i) for i in out])\n",
    "    outF = open(output_file, \"a\")\n",
    "#     print(\"\\t\".join([\"contig\", \"position\", \"kmer\", \"num_reads_ivt\", \"num_reads_native\", \"ks_signal\", \"ks_signal_pval\",\n",
    "#                     \"ttest_signal\", \"ttest_signal_pval\", \"signal_shapiro_ivt\", \"signal_shapiro_ivt\", \"signal_mean_ivt\", \"signal_mean_native\",\n",
    "#                      \"signal_median_ivt\",\"signal_median_native\", \"signal_std_ivt\", \"signal_std_native\", \"ks_dwell\",\"ks_dwell_pval\", \n",
    "#                     \"ttest_dwell\", \"ttest_dwell_pval\", \"dwell_mean_ivt\", \"dwell_mean_native\", \"dwell_median_ivt\",\n",
    "#                     \"dwell_median_native\", \"dwell_std_ivt\", \"dwell_std_native\" ]), end=\"\\n\", file=outF)\n",
    "    print(out, end=\"\\n\", file=outF)\n",
    "    outF.close()"
   ]
  },
  {
   "cell_type": "code",
   "execution_count": 90,
   "metadata": {},
   "outputs": [],
   "source": [
    "native = get_df(\"/kyber/Data/Nanopore/projects/nano2om/190617_nano2om/aws_emr/1623_native/\",\"ecoli23S\",[10])\n",
    "ivt = get_df(\"/kyber/Data/Nanopore/projects/nano2om/190617_nano2om/aws_emr/1623_ivt/\",\"ecoli23S\",[10])"
   ]
  },
  {
   "cell_type": "code",
   "execution_count": 86,
   "metadata": {},
   "outputs": [
    {
     "data": {
      "text/plain": [
       "Ks_2sampResult(statistic=0.08486387920352378, pvalue=5.299003133011954e-08)"
      ]
     },
     "execution_count": 86,
     "metadata": {},
     "output_type": "execute_result"
    }
   ],
   "source": [
    "# get_stat(native, ivt,\"ecoli23S\" , 8, \"stats/test1.tsv\")\n",
    "ks_2samp(native[\"event_mean\"],ivt[\"event_mean\"],mode=\"asymp\")"
   ]
  },
  {
   "cell_type": "code",
   "execution_count": 63,
   "metadata": {},
   "outputs": [],
   "source": [
    "def parser(path_native, path_ivt, path_median_dwell_native, path_median_dwell_ivt, contig, end_coor, save_path):\n",
    "    \n",
    "    outF = open(save_path, \"a\")\n",
    "    print(\"\\t\".join([\"contig\", \"position\", \"kmer\", \"num_reads_ivt\", \"num_reads_native\", \"ks_signal\", \"ks_signal_pval\",\n",
    "                    \"ttest_signal\", \"ttest_signal_pval\", \"signal_shapiro_ivt\", \"signal_shapiro_ivt\", \"signal_mean_ivt\", \"signal_mean_native\",\n",
    "                     \"signal_median_ivt\",\"signal_median_native\", \"signal_std_ivt\", \"signal_std_native\", \"ks_dwell\",\"ks_dwell_pval\", \n",
    "                    \"ttest_dwell\", \"ttest_dwell_pval\", \"dwell_mean_ivt\", \"dwell_mean_native\", \"dwell_median_ivt\",\n",
    "                    \"dwell_median_native\", \"dwell_std_ivt\", \"dwell_std_native\" ]), end=\"\\n\", file=outF)\n",
    "    outF.close()\n",
    "    for pos in range(1,end_coor+1):\n",
    "        \n",
    "        native = get_df(path_native, contig, [pos], path_median_dwell_native)\n",
    "        ivt = get_df(path_ivt, contig, [pos], path_median_dwell_ivt)\n",
    "        get_stat(native, ivt, contig, pos, save_path)\n",
    "        "
   ]
  },
  {
   "cell_type": "code",
   "execution_count": null,
   "metadata": {},
   "outputs": [],
   "source": [
    "parser(\"/kyber/Data/Nanopore/projects/nano2om/190617_nano2om/aws_emr/1623_native/\",\"/kyber/Data/Nanopore/projects/nano2om/190617_nano2om/aws_emr/1623_ivt/\",\n",
    "       \"1623_native_median_dwell_byRead.csv\", \"1623_ivt_median_dwell_byRead.csv\",\n",
    "      \"ecoli23S\", 2900, \"stats/ecoli23S_normalized_dwell.tsv\")\n",
    "print(\"Finished!\")"
   ]
  },
  {
   "cell_type": "code",
   "execution_count": null,
   "metadata": {},
   "outputs": [],
   "source": [
    "parser(\"/kyber/Data/Nanopore/projects/nano2om/190617_nano2om/aws_emr/1623_native/\",\"/kyber/Data/Nanopore/projects/nano2om/190617_nano2om/aws_emr/1623_ivt/\",\n",
    "       \"1623_native_median_dwell_byRead.csv\", \"1623_ivt_median_dwell_byRead.csv\",\n",
    "      \"ecoli16S\", 1538, \"stats/ecoli16S_normalized_dwell.tsv\")\n",
    "print(\"Finished!\")"
   ]
  },
  {
   "cell_type": "code",
   "execution_count": null,
   "metadata": {},
   "outputs": [],
   "source": [
    "parser(\"/kyber/Data/Nanopore/projects/nano2om/190617_nano2om/aws_emr/1825_native/\",\"/kyber/Data/Nanopore/projects/nano2om/190617_nano2om/aws_emr/1825_ivt/\",\n",
    "       \"1825_native_median_dwell_byRead.csv\", \"1825_ivt_median_dwell_byRead.csv\",\n",
    "      \"sc25S\", 3392, \"stats/sc25S_normalized_dwell.tsv\")\n",
    "print(\"Finished!\")"
   ]
  },
  {
   "cell_type": "code",
   "execution_count": null,
   "metadata": {},
   "outputs": [
    {
     "name": "stderr",
     "output_type": "stream",
     "text": [
      "/home/roham/.local/lib/python3.6/site-packages/scipy/stats/morestats.py:1660: UserWarning: p-value may not be accurate for N > 5000.\n",
      "  warnings.warn(\"p-value may not be accurate for N > 5000.\")\n"
     ]
    }
   ],
   "source": [
    "parser(\"/kyber/Data/Nanopore/projects/nano2om/190617_nano2om/aws_emr/1825_native/\",\"/kyber/Data/Nanopore/projects/nano2om/190617_nano2om/aws_emr/1825_ivt/\",\n",
    "       \"1825_native_median_dwell_byRead.csv\", \"1825_ivt_median_dwell_byRead.csv\",\n",
    "      \"sc18S\", 1796, \"stats/sc18S_normalized_dwell.tsv\")\n",
    "print(\"Finished!\")"
   ]
  },
  {
   "cell_type": "code",
   "execution_count": 96,
   "metadata": {},
   "outputs": [],
   "source": [
    "def plot_stat(df, title, save_path, col):\n",
    "    plt.figure(figsize=(30, 6))\n",
    "    sns.lineplot(x=\"position\",y=col,data=df)\n",
    "    sns.despine()\n",
    "    # plt.title(\"Control_Structure\")\n",
    "    plt.title(title)\n",
    "    plt.tight_layout()\n",
    "    plt.savefig(save_path + title + '.pdf', format='pdf', dpi=1200,bbox_inches='tight')"
   ]
  },
  {
   "cell_type": "markdown",
   "metadata": {},
   "source": [
    "# operon specific signal analysis"
   ]
  },
  {
   "cell_type": "code",
   "execution_count": 4,
   "metadata": {},
   "outputs": [],
   "source": [
    "def sammap(file):\n",
    "    df = pd.read_csv(file , sep=\" \" ,comment='@', header=None)\n",
    "    df.columns = [\"read_name\", \"contig\", \"mapQ\"]\n",
    "    df = df[df[\"mapQ\"] != 0 ]\n",
    "    s = df.groupby(['read_name'], sort=False)['mapQ'].max()\n",
    "    idx = df.groupby(['read_name'])['mapQ'].transform(max) == df['mapQ']\n",
    "    s = df[idx]\n",
    "    s = s.drop_duplicates(\"read_name\", keep=False)\n",
    "    return s\n",
    "\n",
    "def operon_reads(df, sammap_output, contig):\n",
    "    reads = sammap_output[sammap_output[\"contig\"] == contig].read_name.to_list()\n",
    "    df = df[df[\"read_name\"].isin(reads)]\n",
    "    \n",
    "    return df\n",
    "\n",
    "def parser_operons(path_native, path_ivt, path_median_dwell_native, path_median_dwell_ivt,\n",
    "           sammap_native_file, sammap_ivt_file, contig, end_coor, save_path):\n",
    "    smap_native= sammap(sammap_native_file)\n",
    "    smap_ivt = sammap(sammap_ivt_file)\n",
    "#     outF = open(save_path + \"_\" + op + \".tsv\", \"a\")\n",
    "#     print(\"\\t\".join([\"contig\", \"position\", \"kmer\", \"num_reads_ivt\", \"num_reads_native\", \"ks_signal\", \"ks_signal_pval\",\n",
    "#                     \"ttest_signal\", \"ttest_signal_pval\", \"signal_shapiro_ivt\", \"signal_shapiro_ivt\", \"signal_mean_ivt\", \"signal_mean_native\",\n",
    "#                      \"signal_median_ivt\",\"signal_median_native\", \"signal_std_ivt\", \"signal_std_native\", \"ks_dwell\",\"ks_dwell_pval\", \n",
    "#                     \"ttest_dwell\", \"ttest_dwell_pval\", \"dwell_mean_ivt\", \"dwell_mean_native\", \"dwell_median_ivt\",\n",
    "#                     \"dwell_median_native\", \"dwell_std_ivt\", \"dwell_std_native\" ]), end=\"\\n\", file=outF)\n",
    "#     outF.close()\n",
    "    for op in ['rrnA_23s', 'rrnBG_23s', 'rrnC_23s', 'rrnD_23s', 'rrnE_23s', 'rrnH_23s']:\n",
    "        outF = open(save_path + \"_\" + op + \".tsv\", \"a\")\n",
    "        print(\"\\t\".join([\"contig\", \"position\", \"kmer\", \"num_reads_ivt\", \"num_reads_native\", \"ks_signal\", \"ks_signal_pval\",\n",
    "                        \"ttest_signal\", \"ttest_signal_pval\", \"signal_shapiro_ivt\", \"signal_shapiro_ivt\", \"signal_mean_ivt\", \"signal_mean_native\",\n",
    "                         \"signal_median_ivt\",\"signal_median_native\", \"signal_std_ivt\", \"signal_std_native\", \"ks_dwell\",\"ks_dwell_pval\", \n",
    "                        \"ttest_dwell\", \"ttest_dwell_pval\", \"dwell_mean_ivt\", \"dwell_mean_native\", \"dwell_median_ivt\",\n",
    "                        \"dwell_median_native\", \"dwell_std_ivt\", \"dwell_std_native\" ]), end=\"\\n\", file=outF)\n",
    "        outF.close()\n",
    "    for pos in range(50,end_coor+1):\n",
    "        for op in ['rrnA_23s', 'rrnBG_23s', 'rrnC_23s', 'rrnD_23s', 'rrnE_23s', 'rrnH_23s']:\n",
    "            \n",
    "            native = get_df(path_native, contig, [pos], path_median_dwell_native)\n",
    "            native = operon_reads(native, smap_native, op)\n",
    "            ivt = get_df(path_ivt, contig, [pos], path_median_dwell_ivt)\n",
    "            ivt = operon_reads(ivt, smap_ivt, op)\n",
    "            get_stat(native, ivt, contig, pos, save_path + \"_\" + op + \".tsv\")\n",
    "        "
   ]
  },
  {
   "cell_type": "code",
   "execution_count": null,
   "metadata": {},
   "outputs": [
    {
     "name": "stderr",
     "output_type": "stream",
     "text": [
      "/home/roham/.local/lib/python3.6/site-packages/scipy/stats/morestats.py:1660: UserWarning: p-value may not be accurate for N > 5000.\n",
      "  warnings.warn(\"p-value may not be accurate for N > 5000.\")\n"
     ]
    }
   ],
   "source": [
    "parser_operons(\"/kyber/Data/Nanopore/projects/nano2om/190617_nano2om/aws_emr/1623_native/\",\"/kyber/Data/Nanopore/projects/nano2om/190617_nano2om/aws_emr/1623_ivt/\",\n",
    "       \"1623_native_median_dwell_byRead.csv\", \"1623_ivt_median_dwell_byRead.csv\",\n",
    "      \"/kyber/Data/Nanopore/projects/nano2om/minimap2-23s/23s-native_sammap.txt\",\n",
    "       \"/kyber/Data/Nanopore/projects/nano2om/minimap2-23s/23s-ivt_sammap.txt\",\n",
    "       \"ecoli23S\", 2900, \"stats/ecoli23S_normalized_dwell\")\n",
    "print(\"Finished!\")"
   ]
  },
  {
   "cell_type": "code",
   "execution_count": 61,
   "metadata": {},
   "outputs": [],
   "source": [
    "k = sammap(\"/kyber/Data/Nanopore/projects/nano2om/minimap2-23s/23s-native_sammap.txt\"))"
   ]
  }
 ],
 "metadata": {
  "kernelspec": {
   "display_name": "Python 3",
   "language": "python",
   "name": "python3"
  },
  "language_info": {
   "codemirror_mode": {
    "name": "ipython",
    "version": 3
   },
   "file_extension": ".py",
   "mimetype": "text/x-python",
   "name": "python",
   "nbconvert_exporter": "python",
   "pygments_lexer": "ipython3",
   "version": "3.6.3"
  }
 },
 "nbformat": 4,
 "nbformat_minor": 4
}
