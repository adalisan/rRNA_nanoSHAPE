{
 "cells": [
  {
   "cell_type": "code",
   "execution_count": 1,
   "metadata": {},
   "outputs": [
    {
     "data": {
      "text/html": [
       "<style>.container { width:87% !important; }</style>"
      ],
      "text/plain": [
       "<IPython.core.display.HTML object>"
      ]
     },
     "metadata": {},
     "output_type": "display_data"
    }
   ],
   "source": [
    "from IPython.core.display import display, HTML\n",
    "display(HTML(\"<style>.container { width:87% !important; }</style>\"))"
   ]
  },
  {
   "cell_type": "code",
   "execution_count": 2,
   "metadata": {},
   "outputs": [],
   "source": [
    "%matplotlib inline"
   ]
  },
  {
   "cell_type": "code",
   "execution_count": 3,
   "metadata": {},
   "outputs": [],
   "source": [
    "import numpy as np\n",
    "import matplotlib.pyplot as plt\n",
    "import matplotlib.ticker\n",
    "from scipy.signal import find_peaks\n",
    "from scipy.signal import correlate\n",
    "from scipy.optimize import curve_fit\n",
    "from scipy.stats import pearsonr\n",
    "from scipy.stats import spearmanr\n",
    "from scipy.stats import variation\n",
    "from scipy.stats import skew\n",
    "from scipy.stats import iqr\n",
    "from scipy.stats import ks_2samp\n",
    "from scipy.stats import gaussian_kde\n",
    "from sklearn.preprocessing import normalize\n",
    "import seaborn as sns\n",
    "import pandas as pd\n",
    "import sys\n",
    "import matplotlib as mpl\n",
    "from matplotlib import rc\n",
    "mpl.rcParams['pdf.fonttype'] = 42\n",
    "matplotlib.rcParams.update({'font.size': 18})"
   ]
  },
  {
   "cell_type": "code",
   "execution_count": 4,
   "metadata": {},
   "outputs": [],
   "source": [
    "def get_column(filename, seq_len, i, resample_n=None):\n",
    "    arr = np.memmap(filename, \n",
    "                    dtype=float, mode='r')\n",
    "\n",
    "    row_count = arr.shape[0]//seq_len\n",
    "    arr = arr.reshape((row_count, seq_len))\n",
    "    ri = np.array(list(range(row_count)))\n",
    "    if resample_n is not None:\n",
    "        ri = np.random.choice(ri, resample_n)\n",
    "    return arr[ri, i]"
   ]
  },
  {
   "cell_type": "code",
   "execution_count": 5,
   "metadata": {},
   "outputs": [],
   "source": [
    "### constants\n",
    "ev_to_ms = 0.332"
   ]
  },
  {
   "cell_type": "code",
   "execution_count": 6,
   "metadata": {},
   "outputs": [],
   "source": [
    "dwell_16si = \"/gpfs/commons/groups/innovation/will/nano2ome/dwell_analysis/16i_dwell.npy\"\n",
    "dwell_16sn = \"/gpfs/commons/groups/innovation/will/nano2ome/dwell_analysis/16n_dwell.npy\"\n",
    "\n",
    "dwell_23si = \"/gpfs/commons/groups/innovation/will/nano2ome/dwell_analysis/23i_dwell.npy\"\n",
    "dwell_23sn = \"/gpfs/commons/groups/innovation/will/nano2ome/dwell_analysis/23n_dwell.npy\"\n",
    "\n",
    "dwell_18si = \"/gpfs/commons/groups/innovation/will/nano2ome/dwell_analysis/18i_dwell.npy\"\n",
    "dwell_18sn = \"/gpfs/commons/groups/innovation/will/nano2ome/dwell_analysis/18n_dwell.npy\"\n",
    "\n",
    "dwell_25si = \"/gpfs/commons/groups/innovation/will/nano2ome/dwell_analysis/25i_dwell.npy\"\n",
    "dwell_25sn = \"/gpfs/commons/groups/innovation/will/nano2ome/dwell_analysis/25n_dwell.npy\""
   ]
  },
  {
   "cell_type": "code",
   "execution_count": 7,
   "metadata": {},
   "outputs": [],
   "source": [
    "fa_16s = '/gpfs/commons/projects/ont_nanoprobe/refs/ec16s.fasta'\n",
    "fa_18s = '/gpfs/commons/projects/ont_nanoprobe/refs/sc18s.fasta'\n",
    "fa_23s = '/gpfs/commons/projects/ont_nanoprobe/refs/ec23s.fasta'\n",
    "fa_25s = '/gpfs/commons/projects/ont_nanoprobe/refs/sc25s.fasta'\n",
    "target_16s = ''.join([line.rstrip() for line in open(fa_16s,'r')][1:]).replace('T','U')\n",
    "target_18s = ''.join([line.rstrip() for line in open(fa_18s,'r')][1:]).replace('T','U')\n",
    "target_23s = ''.join([line.rstrip() for line in open(fa_23s,'r')][1:]).replace('T','U')\n",
    "target_25s = ''.join([line.rstrip() for line in open(fa_25s,'r')][1:]).replace('T','U')"
   ]
  },
  {
   "cell_type": "code",
   "execution_count": 8,
   "metadata": {},
   "outputs": [
    {
     "name": "stdout",
     "output_type": "stream",
     "text": [
      "1402 2552 1428 2220\n",
      "1401 2551 1427 2219\n",
      "1411 2561 1437 2229\n"
     ]
    }
   ],
   "source": [
    "Cm_pos_orig = 1402 # 16S\n",
    "Um_pos_orig = 2552 # 23S\n",
    "Gm_pos_orig = 1428 # 18S\n",
    "Am_pos_orig = 2220 # 25S\n",
    "\n",
    "print(Cm_pos_orig, Um_pos_orig, Gm_pos_orig, Am_pos_orig)\n",
    "\n",
    "xr = 10 # registration distance (for dwell)\n",
    "\n",
    "# Actual indicies are -1 python indexing:\n",
    "Cm_pos = Cm_pos_orig - 1\n",
    "Um_pos = Um_pos_orig - 1\n",
    "Gm_pos = Gm_pos_orig - 1\n",
    "Am_pos = Am_pos_orig - 1\n",
    "\n",
    "print(Cm_pos, Um_pos, Gm_pos, Am_pos)\n",
    "\n",
    "# Need to add the registration distance:\n",
    "Cm_pos_dwell = Cm_pos + xr\n",
    "Um_pos_dwell = Um_pos + xr\n",
    "Gm_pos_dwell = Gm_pos + xr\n",
    "Am_pos_dwell = Am_pos + xr\n",
    "\n",
    "print(Cm_pos_dwell, Um_pos_dwell, Gm_pos_dwell, Am_pos_dwell)"
   ]
  },
  {
   "cell_type": "code",
   "execution_count": 9,
   "metadata": {},
   "outputs": [],
   "source": [
    "# 16S\n",
    "# ivt_dwell_pos_16 = get_column(dwell_16si, len(target_16s), Cm_pos_dwell)\n",
    "# ivt_dwell_pos_16 = ivt_dwell_pos_16[~np.isnan(ivt_dwell_pos_16)]\n",
    "# nat_dwell_pos_16 = get_column(dwell_16sn, len(target_16s), Cm_pos_dwell)\n",
    "# nat_dwell_pos_16 = nat_dwell_pos_16[~np.isnan(nat_dwell_pos_16)]\n",
    "\n",
    "# ivt_pore_pos_16 = get_column(dwell_16si, len(target_16s), Cm_pos)\n",
    "# ivt_pore_pos_16 = ivt_pore_pos_16[~np.isnan(ivt_pore_pos_16)]\n",
    "# nat_pore_pos_16 = get_column(dwell_16sn, len(target_16s), Cm_pos)\n",
    "# nat_pore_pos_16 = nat_pore_pos_16[~np.isnan(nat_pore_pos_16)]"
   ]
  },
  {
   "cell_type": "code",
   "execution_count": 51,
   "metadata": {},
   "outputs": [],
   "source": [
    "# 18S\n",
    "# ivt_dwell_pos_18 = get_column(dwell_18si, len(target_18s), Gm_pos_dwell)\n",
    "# ivt_dwell_pos_18 = ivt_dwell_pos_18[~np.isnan(ivt_dwell_pos_18)]\n",
    "# nat_dwell_pos_18 = get_column(dwell_18sn, len(target_18s), Gm_pos_dwell)\n",
    "# nat_dwell_pos_18 = nat_dwell_pos_18[~np.isnan(nat_dwell_pos_18)]\n",
    "\n",
    "# ivt_pore_pos_18 = get_column(dwell_18si, len(target_18s), Gm_pos)\n",
    "# ivt_pore_pos_18 = ivt_pore_pos_18[~np.isnan(ivt_pore_pos_18)]\n",
    "# nat_pore_pos_18 = get_column(dwell_18sn, len(target_18s), Gm_pos)\n",
    "# nat_pore_pos_18 = nat_pore_pos_18[~np.isnan(nat_pore_pos_18)]"
   ]
  },
  {
   "cell_type": "code",
   "execution_count": 59,
   "metadata": {},
   "outputs": [],
   "source": [
    "# 23S\n",
    "# ivt_dwell_pos_23 = get_column(dwell_23si, len(target_23s), Um_pos_dwell)\n",
    "# ivt_dwell_pos_23 = ivt_dwell_pos_23[~np.isnan(ivt_dwell_pos_23)]\n",
    "# nat_dwell_pos_23 = get_column(dwell_23sn, len(target_23s), Um_pos_dwell)\n",
    "# nat_dwell_pos_23 = nat_dwell_pos_23[~np.isnan(nat_dwell_pos_23)]\n",
    "\n",
    "# ivt_pore_pos_23 = get_column(dwell_23si, len(target_23s), Um_pos)\n",
    "# ivt_pore_pos_23 = ivt_pore_pos_23[~np.isnan(ivt_pore_pos_23)]\n",
    "# nat_pore_pos_23 = get_column(dwell_23sn, len(target_23s), Um_pos)\n",
    "# nat_pore_pos_23 = nat_pore_pos_23[~np.isnan(nat_pore_pos_23)]"
   ]
  },
  {
   "cell_type": "code",
   "execution_count": 62,
   "metadata": {},
   "outputs": [],
   "source": [
    "# 25S\n",
    "# ivt_dwell_pos_25 = get_column(dwell_25si, len(target_25s), Am_pos_dwell)\n",
    "# ivt_dwell_pos_25 = ivt_dwell_pos_25[~np.isnan(ivt_dwell_pos_25)]\n",
    "# nat_dwell_pos_25 = get_column(dwell_25sn, len(target_25s), Am_pos_dwell)\n",
    "# nat_dwell_pos_25 = nat_dwell_pos_25[~np.isnan(nat_dwell_pos_25)]\n",
    "\n",
    "# ivt_pore_pos_25 = get_column(dwell_25si, len(target_25s), Am_pos)\n",
    "# ivt_pore_pos_25 = ivt_pore_pos_25[~np.isnan(ivt_pore_pos_25)]\n",
    "# nat_pore_pos_25 = get_column(dwell_25sn, len(target_25s), Am_pos)\n",
    "# nat_pore_pos_25 = nat_pore_pos_25[~np.isnan(nat_pore_pos_25)]"
   ]
  },
  {
   "cell_type": "code",
   "execution_count": 92,
   "metadata": {},
   "outputs": [],
   "source": [
    "n=1000\n",
    "\n",
    "#random subsampling + conversion to ms:\n",
    "#16S\n",
    "ivt_dwell_pos_16ss = np.random.choice(ivt_dwell_pos_16, n)*ev_to_ms\n",
    "nat_dwell_pos_16ss = np.random.choice(nat_dwell_pos_16, n)*ev_to_ms\n",
    "data_16_dwell = [ivt_dwell_pos_16ss, nat_dwell_pos_16ss]\n",
    "ivt_pore_pos_16ss = np.random.choice(ivt_pore_pos_16, n)*ev_to_ms\n",
    "nat_pore_pos_16ss = np.random.choice(nat_pore_pos_16, n)*ev_to_ms\n",
    "data_16_pore = [ivt_pore_pos_16ss, nat_pore_pos_16ss]\n",
    "\n",
    "#18S\n",
    "ivt_dwell_pos_18ss = np.random.choice(ivt_dwell_pos_18, n)*ev_to_ms\n",
    "nat_dwell_pos_18ss = np.random.choice(nat_dwell_pos_18, n)*ev_to_ms\n",
    "data_18_dwell = [ivt_dwell_pos_18ss, nat_dwell_pos_18ss]\n",
    "ivt_pore_pos_18ss = np.random.choice(ivt_pore_pos_18, n)*ev_to_ms\n",
    "nat_pore_pos_18ss = np.random.choice(nat_pore_pos_18, n)*ev_to_ms\n",
    "data_18_pore = [ivt_pore_pos_18ss, nat_pore_pos_18ss]\n",
    "\n",
    "#23S\n",
    "ivt_dwell_pos_23ss = np.random.choice(ivt_dwell_pos_23, n)*ev_to_ms\n",
    "nat_dwell_pos_23ss = np.random.choice(nat_dwell_pos_23, n)*ev_to_ms\n",
    "data_23_dwell = [ivt_dwell_pos_23ss, nat_dwell_pos_23ss]\n",
    "ivt_pore_pos_23ss = np.random.choice(ivt_pore_pos_23, n)*ev_to_ms\n",
    "nat_pore_pos_23ss = np.random.choice(nat_pore_pos_23, n)*ev_to_ms\n",
    "data_23_pore = [ivt_pore_pos_23ss, nat_pore_pos_23ss]\n",
    "\n",
    "#25S\n",
    "ivt_dwell_pos_25ss = np.random.choice(ivt_dwell_pos_25, n)*ev_to_ms\n",
    "nat_dwell_pos_25ss = np.random.choice(nat_dwell_pos_25, n)*ev_to_ms\n",
    "data_25_dwell = [ivt_dwell_pos_25ss, nat_dwell_pos_25ss]\n",
    "ivt_pore_pos_25ss = np.random.choice(ivt_pore_pos_25, n)*ev_to_ms\n",
    "nat_pore_pos_25ss = np.random.choice(nat_pore_pos_25, n)*ev_to_ms\n",
    "data_25_pore = [ivt_pore_pos_25ss, nat_pore_pos_25ss]"
   ]
  },
  {
   "cell_type": "code",
   "execution_count": 94,
   "metadata": {},
   "outputs": [
    {
     "name": "stdout",
     "output_type": "stream",
     "text": [
      "6.308454344561796e-10\n",
      "1.0290430091530852e-21\n",
      "2.8747384414272637e-31\n",
      "1.6305276757041005e-44\n"
     ]
    },
    {
     "data": {
      "image/png": "[encoded data removed]",
      "text/plain": [
       "<Figure size 432x576 with 4 Axes>"
      ]
     },
     "metadata": {
      "needs_background": "light"
     },
     "output_type": "display_data"
    }
   ],
   "source": [
    "fig999, axs = plt.subplots(2,2, figsize=(6,8))\n",
    "axs[0,0].boxplot(data_16_dwell, widths=0.4, showcaps=False, showfliers=False)\n",
    "axs[0,1].boxplot(data_23_dwell, widths=0.4, showcaps=False, showfliers=False)\n",
    "axs[1,0].boxplot(data_18_dwell, widths=0.4, showcaps=False, showfliers=False)\n",
    "axs[1,1].boxplot(data_25_dwell, widths=0.4, showcaps=False, showfliers=False)\n",
    "axs[0,0].set_yscale('log')\n",
    "axs[0,1].set_yscale('log')\n",
    "axs[1,0].set_yscale('log')\n",
    "axs[1,1].set_yscale('log')\n",
    "\n",
    "fig999.tight_layout()\n",
    "\n",
    "[mwu16s, mwu16p] = mannwhitneyu(data_16_dwell[0], data_16_dwell[1]) \n",
    "[mwu23s, mwu23p] = mannwhitneyu(data_23_dwell[0], data_23_dwell[1]) \n",
    "\n",
    "[mwu18s, mwu18p] = mannwhitneyu(data_18_dwell[0], data_18_dwell[1]) \n",
    "[mwu25s, mwu25p] = mannwhitneyu(data_25_dwell[0], data_25_dwell[1]) \n",
    "\n",
    "print(mwu16p)\n",
    "print(mwu23p)\n",
    "print(mwu18p)\n",
    "print(mwu25p)\n",
    "\n",
    "fig999.savefig('plots/Nm_dwells_v1.pdf')"
   ]
  },
  {
   "cell_type": "code",
   "execution_count": null,
   "metadata": {},
   "outputs": [],
   "source": []
  },
  {
   "cell_type": "code",
   "execution_count": null,
   "metadata": {},
   "outputs": [],
   "source": []
  },
  {
   "cell_type": "code",
   "execution_count": null,
   "metadata": {},
   "outputs": [],
   "source": []
  },
  {
   "cell_type": "code",
   "execution_count": null,
   "metadata": {},
   "outputs": [],
   "source": []
  }
 ],
 "metadata": {
  "kernelspec": {
   "display_name": "Python 3",
   "language": "python",
   "name": "python3"
  },
  "language_info": {
   "codemirror_mode": {
    "name": "ipython",
    "version": 3
   },
   "file_extension": ".py",
   "mimetype": "text/x-python",
   "name": "python",
   "nbconvert_exporter": "python",
   "pygments_lexer": "ipython3",
   "version": "3.7.1rc1"
  }
 },
 "nbformat": 4,
 "nbformat_minor": 2
}
